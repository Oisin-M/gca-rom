{
  "cells": [
    {
      "cell_type": "markdown",
      "metadata": {
        "colab_type": "text",
        "id": "view-in-github"
      },
      "source": [
        "<a href=\"https://colab.research.google.com/github/fpichi/gca-rom/blob/main/notebook/06_navier_stokes_p.ipynb\" target=\"_parent\"><img src=\"https://colab.research.google.com/assets/colab-badge.svg\" alt=\"Open In Colab\"/></a>"
      ]
    },
    {
      "cell_type": "code",
      "execution_count": null,
      "metadata": {
        "id": "CtOVuaD1oJGf"
      },
      "outputs": [],
      "source": [
        "# Install PyTorch\n",
        "try:\n",
        "  import torch\n",
        "except ImportError:\n",
        "  !pip3 install torch torchvision torchaudio --index-url https://download.pytorch.org/whl/cu118\n",
        "  import torch"
      ]
    },
    {
      "cell_type": "code",
      "execution_count": null,
      "metadata": {
        "id": "NSPoTlJupTMQ"
      },
      "outputs": [],
      "source": [
        "# Install PyG\n",
        "try:\n",
        "  import torch_geometric\n",
        "except ImportError:\n",
        "  !pip3 install torch_geometric\n",
        "  import torch_geometric"
      ]
    },
    {
      "cell_type": "code",
      "execution_count": null,
      "metadata": {
        "id": "rXVVqRjT0CHr"
      },
      "outputs": [],
      "source": [
        "# Clone and import gca-rom\n",
        "import sys\n",
        "if 'google.colab' in str(get_ipython()):\n",
        "    !git clone https://github.com/fpichi/gca-rom.git\n",
        "    sys.path.append('gca-rom')\n",
        "else:\n",
        "    sys.path.append('./..')\n",
        "\n",
        "from gca_rom import network, pde, loader, plotting, preprocessing, training, initialization, testing, error, gui\n"
      ]
    },
    {
      "cell_type": "code",
      "execution_count": null,
      "metadata": {
        "id": "sBjDa3kg2gyX"
      },
      "outputs": [],
      "source": [
        "import numpy as np\n",
        "from itertools import product"
      ]
    },
    {
      "cell_type": "markdown",
      "metadata": {
        "id": "xrvQWQQD274v"
      },
      "source": [
        "# Define PDE problem\n",
        "For the description of the model and generation of the dataset look at: [RBniCS/tutorials/20_coanda_effect](https://github.com/RBniCS/RBniCS/blob/master/tutorials/20_coanda_effect/tutorial_coanda_effect.ipynb)"
      ]
    },
    {
      "cell_type": "code",
      "execution_count": null,
      "metadata": {
        "colab": {
          "base_uri": "https://localhost:8080/"
        },
        "id": "l1sNbNWi2x5J",
        "outputId": "b4727c6d-5677-4eea-f773-09dafec0ea03"
      },
      "outputs": [],
      "source": [
        "problem_name, variable, mu_space, n_param = pde.problem(6)\n",
        "argv = gui.hyperparameters_selection(problem_name, variable, n_param)\n",
        "HyperParams = network.HyperParams(argv)\n",
        "HyperParams.__dict__"
      ]
    },
    {
      "cell_type": "markdown",
      "metadata": {
        "id": "PgphDqaw3Dvk"
      },
      "source": [
        "# Initialize device and set reproducibility"
      ]
    },
    {
      "cell_type": "code",
      "execution_count": null,
      "metadata": {
        "colab": {
          "base_uri": "https://localhost:8080/"
        },
        "id": "oLoNgZkI257l",
        "outputId": "28c29a49-1606-4e5a-c236-79aca8cae9df"
      },
      "outputs": [],
      "source": [
        "device = initialization.set_device()\n",
        "initialization.set_reproducibility(HyperParams)\n",
        "initialization.set_path(HyperParams)"
      ]
    },
    {
      "cell_type": "markdown",
      "metadata": {
        "id": "NbCmXQ4I3IAv"
      },
      "source": [
        "# Load dataset"
      ]
    },
    {
      "cell_type": "code",
      "execution_count": null,
      "metadata": {
        "colab": {
          "base_uri": "https://localhost:8080/"
        },
        "id": "PgCWJRAm3CuH",
        "outputId": "5849233f-3830-4060-fe66-b119f4643dc2"
      },
      "outputs": [],
      "source": [
        "if 'google.colab' in str(get_ipython()):\n",
        "    dataset_dir = '/content/gca-rom/dataset/'+problem_name+'_unstructured.mat'\n",
        "else:\n",
        "    dataset_dir = '../dataset/'+problem_name+'_unstructured.mat'\n",
        "dataset = loader.LoadDataset(dataset_dir, variable)\n",
        "\n",
        "graph_loader, train_loader, test_loader, \\\n",
        "    val_loader, scaler_all, scaler_test, xyz, VAR_all, VAR_test, \\\n",
        "        train_trajectories, test_trajectories = preprocessing.graphs_dataset(dataset, HyperParams)\n",
        "\n",
        "params = torch.tensor(np.array(list(product(*mu_space))))\n",
        "params = params.to(device)"
      ]
    },
    {
      "cell_type": "markdown",
      "metadata": {
        "id": "NReTyPBUMzy0"
      },
      "source": [
        "# Define the architecture"
      ]
    },
    {
      "cell_type": "code",
      "execution_count": null,
      "metadata": {
        "id": "lW5gsJNl3K7_"
      },
      "outputs": [],
      "source": [
        "model = network.Net(HyperParams)\n",
        "model = model.to(device)\n",
        "if 'google.colab' in str(get_ipython()):\n",
        "  torch.set_default_dtype(torch.float32)\n",
        "optimizer = torch.optim.Adam(model.parameters(), lr=HyperParams.learning_rate, weight_decay=HyperParams.weight_decay)\n",
        "scheduler = torch.optim.lr_scheduler.MultiStepLR(optimizer, milestones=HyperParams.miles, gamma=HyperParams.gamma)"
      ]
    },
    {
      "cell_type": "markdown",
      "metadata": {
        "id": "Zpl8zN4eXRaF"
      },
      "source": [
        "# Train or load a pre-trained network"
      ]
    },
    {
      "cell_type": "code",
      "execution_count": null,
      "metadata": {
        "colab": {
          "base_uri": "https://localhost:8080/"
        },
        "id": "6BPwYDBKXRru",
        "outputId": "c37f8a43-ec73-4349-a998-ed610a31395d"
      },
      "outputs": [],
      "source": [
        "try:\n",
        "    model.load_state_dict(torch.load(HyperParams.net_dir+HyperParams.net_name+HyperParams.net_run+'.pt'))\n",
        "    print('Loading saved network')\n",
        "except FileNotFoundError:\n",
        "    print('Training network')\n",
        "    training.train(model, optimizer, device, scheduler, params, train_loader, test_loader, train_trajectories, test_trajectories, HyperParams)"
      ]
    },
    {
      "cell_type": "markdown",
      "metadata": {
        "id": "3hKW8WLhNuJB"
      },
      "source": [
        "# Evaluate the model"
      ]
    },
    {
      "cell_type": "code",
      "execution_count": null,
      "metadata": {
        "colab": {
          "base_uri": "https://localhost:8080/"
        },
        "id": "1Fgnj-NzNxDs",
        "outputId": "d2f3dcf9-cd89-4991-ac5f-c9ea8c04d927"
      },
      "outputs": [],
      "source": [
        "model.to(\"cpu\")\n",
        "params = params.to(\"cpu\")\n",
        "vars = \"GCA-ROM\"\n",
        "results, latents_map, latents_gca = testing.evaluate(VAR_all, model, graph_loader, params, HyperParams, range(params.shape[0]))"
      ]
    },
    {
      "cell_type": "markdown",
      "metadata": {
        "id": "RSJLj7rMN3iE"
      },
      "source": [
        "# Plot the results"
      ]
    },
    {
      "cell_type": "code",
      "execution_count": null,
      "metadata": {
        "colab": {
          "base_uri": "https://localhost:8080/",
          "height": 1000
        },
        "id": "VwIkAWi4NzsF",
        "outputId": "5b26ee78-6a6e-43b8-d0b7-95da4be0efcf"
      },
      "outputs": [],
      "source": [
        "plotting.plot_loss(HyperParams)\n",
        "plotting.plot_latent(HyperParams, latents_map, latents_gca)\n",
        "plotting.plot_error(results, VAR_all, scaler_all, HyperParams, mu_space, params, train_trajectories, vars)\n",
        "plotting.plot_error_2d(results, VAR_all, scaler_all, HyperParams, mu_space, params, train_trajectories, vars)\n",
        "\n",
        "N = 5\n",
        "snapshots = np.arange(params.shape[0]).tolist()\n",
        "np.random.shuffle(snapshots)\n",
        "for SNAP in snapshots[0:N]:\n",
        "    plotting.plot_fields(SNAP, results, scaler_all, HyperParams, dataset, xyz, params)\n",
        "    plotting.plot_error_fields(SNAP, results, VAR_all, scaler_all, HyperParams, dataset, xyz, params)\n",
        "\n",
        "results_test, _, _ = testing.evaluate(VAR_test, model, val_loader, params, HyperParams, test_trajectories)"
      ]
    },
    {
      "cell_type": "markdown",
      "metadata": {
        "id": "uiaGsslJN8AH"
      },
      "source": [
        "# Print the errors on the testing set"
      ]
    },
    {
      "cell_type": "code",
      "execution_count": null,
      "metadata": {
        "colab": {
          "base_uri": "https://localhost:8080/"
        },
        "id": "R1BkkSEBN7K5",
        "outputId": "b5fd53ed-df3c-4179-adf0-f93266c31fb4"
      },
      "outputs": [],
      "source": [
        "error_abs, norm = error.compute_error(results_test, VAR_test, scaler_test, HyperParams)\n",
        "error.print_error(error_abs, norm, vars)\n",
        "error.save_error(error_abs, norm, HyperParams, vars)"
      ]
    }
  ],
  "metadata": {
    "accelerator": "GPU",
    "colab": {
      "authorship_tag": "ABX9TyMo+NF3kL0MfS01fxq9cPDB",
      "gpuType": "T4",
      "include_colab_link": true,
      "provenance": []
    },
    "kernelspec": {
      "display_name": "Python 3",
      "name": "python3"
    },
    "language_info": {
      "name": "python"
    }
  },
  "nbformat": 4,
  "nbformat_minor": 0
}
