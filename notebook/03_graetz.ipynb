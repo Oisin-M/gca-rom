{
  "cells": [
    {
      "cell_type": "markdown",
      "metadata": {
        "colab_type": "text",
        "id": "view-in-github"
      },
      "source": [
        "<a href=\"https://colab.research.google.com/github/fpichi/gca-rom/blob/main/notebook/03_graetz.ipynb\" target=\"_parent\"><img src=\"https://colab.research.google.com/assets/colab-badge.svg\" alt=\"Open In Colab\"/></a>"
      ]
    },
    {
      "cell_type": "code",
      "execution_count": null,
      "metadata": {
        "id": "CtOVuaD1oJGf"
      },
      "outputs": [],
      "source": [
        "# Install PyTorch\n",
        "try:\n",
        "  import torch\n",
        "except ImportError:\n",
        "  !pip3 install torch torchvision torchaudio --index-url https://download.pytorch.org/whl/cu118\n",
        "  import torch"
      ]
    },
    {
      "cell_type": "code",
      "execution_count": null,
      "metadata": {
        "id": "NSPoTlJupTMQ"
      },
      "outputs": [],
      "source": [
        "# Install PyG\n",
        "try:\n",
        "  import torch_geometric\n",
        "except ImportError:\n",
        "  !pip3 install torch_geometric\n",
        "  import torch_geometric"
      ]
    },
    {
      "cell_type": "code",
      "execution_count": null,
      "metadata": {
        "id": "rXVVqRjT0CHr"
      },
      "outputs": [],
      "source": [
        "# Clone and import gca-rom\n",
        "import sys\n",
        "if 'google.colab' in str(get_ipython()):\n",
        "    !git clone https://github.com/fpichi/gca-rom.git\n",
        "    sys.path.append('gca-rom')\n",
        "else:\n",
        "    sys.path.append('./..')\n",
        "\n",
        "from gca_rom import network, pde, loader, plotting, preprocessing, training, initialization, testing, error, gui\n"
      ]
    },
    {
      "cell_type": "code",
      "execution_count": null,
      "metadata": {
        "id": "sBjDa3kg2gyX"
      },
      "outputs": [],
      "source": [
        "import numpy as np\n",
        "from itertools import product"
      ]
    },
    {
      "cell_type": "markdown",
      "metadata": {
        "id": "xrvQWQQD274v"
      },
      "source": [
        "# Define PDE problem\n",
        "For the description of the model and generation of the dataset look at: [RBniCS/tutorials/04_graetz](https://github.com/RBniCS/RBniCS/blob/master/tutorials/04_graetz/tutorial_graetz_1.ipynb)"
      ]
    },
    {
      "cell_type": "code",
      "execution_count": null,
      "metadata": {
        "colab": {
          "base_uri": "https://localhost:8080/"
        },
        "id": "l1sNbNWi2x5J",
        "outputId": "ea6cf9a0-2a44-4719-d345-4bbf1b795847"
      },
      "outputs": [],
      "source": [
        "problem_name, variable, mu_space, n_param = pde.problem(3)\n",
        "print(\"\\nProblem: \", problem_name)\n",
        "print(\"Variable: \", variable)\n",
        "print(\"Parameters: \", n_param)\n",
        "argv = gui.hyperparameters_selection(problem_name, variable, n_param)\n",
        "HyperParams = network.HyperParams(argv)"
      ]
    },
    {
      "cell_type": "markdown",
      "metadata": {
        "id": "PgphDqaw3Dvk"
      },
      "source": [
        "# Initialize device and set reproducibility"
      ]
    },
    {
      "cell_type": "code",
      "execution_count": null,
      "metadata": {
        "colab": {
          "base_uri": "https://localhost:8080/"
        },
        "id": "oLoNgZkI257l",
        "outputId": "5dc0d91c-f1f5-4c55-9165-3551be4719d6"
      },
      "outputs": [],
      "source": [
        "device = initialization.set_device()\n",
        "initialization.set_reproducibility(HyperParams)\n",
        "initialization.set_path(HyperParams)"
      ]
    },
    {
      "cell_type": "markdown",
      "metadata": {
        "id": "NbCmXQ4I3IAv"
      },
      "source": [
        "# Load dataset"
      ]
    },
    {
      "cell_type": "code",
      "execution_count": null,
      "metadata": {
        "colab": {
          "base_uri": "https://localhost:8080/"
        },
        "id": "PgCWJRAm3CuH",
        "outputId": "94489483-38c4-4059-c3e9-b046859106d8"
      },
      "outputs": [],
      "source": [
        "if 'google.colab' in str(get_ipython()):\n",
        "    dataset_dir = '/content/gca-rom/dataset/'+problem_name+'_unstructured.mat'\n",
        "else:\n",
        "    dataset_dir = '../dataset/'+problem_name+'_unstructured.mat'\n",
        "dataset = loader.LoadDataset(dataset_dir, variable)\n",
        "\n",
        "graph_loader, train_loader, test_loader, \\\n",
        "    val_loader, scaler_all, scaler_test, xyz, VAR_all, VAR_test, \\\n",
        "        train_trajectories, test_trajectories = preprocessing.graphs_dataset(dataset, HyperParams)\n",
        "\n",
        "params = torch.tensor(np.array(list(product(*mu_space))))\n",
        "params = params.to(device)"
      ]
    },
    {
      "cell_type": "markdown",
      "metadata": {
        "id": "NReTyPBUMzy0"
      },
      "source": [
        "# Define the architecture"
      ]
    },
    {
      "cell_type": "code",
      "execution_count": null,
      "metadata": {
        "id": "lW5gsJNl3K7_"
      },
      "outputs": [],
      "source": [
        "model = network.Net(HyperParams)\n",
        "model = model.to(device)\n",
        "if 'google.colab' in str(get_ipython()):\n",
        "  torch.set_default_dtype(torch.float32)\n",
        "optimizer = torch.optim.Adam(model.parameters(), lr=HyperParams.learning_rate, weight_decay=HyperParams.weight_decay)\n",
        "scheduler = torch.optim.lr_scheduler.MultiStepLR(optimizer, milestones=HyperParams.miles, gamma=HyperParams.gamma)"
      ]
    },
    {
      "cell_type": "markdown",
      "metadata": {
        "id": "Zpl8zN4eXRaF"
      },
      "source": [
        "# Train or load a pre-trained network"
      ]
    },
    {
      "cell_type": "code",
      "execution_count": null,
      "metadata": {
        "colab": {
          "base_uri": "https://localhost:8080/"
        },
        "id": "6BPwYDBKXRru",
        "outputId": "3284dece-6019-4918-dbd9-f78af2a0ae9b"
      },
      "outputs": [],
      "source": [
        "try:\n",
        "    model.load_state_dict(torch.load(HyperParams.net_dir+HyperParams.net_name+HyperParams.net_run+'.pt'))\n",
        "    print('Loading saved network')\n",
        "except FileNotFoundError:\n",
        "    print('Training network')\n",
        "    training.train(model, optimizer, device, scheduler, params, train_loader, test_loader, train_trajectories, test_trajectories, HyperParams)"
      ]
    },
    {
      "cell_type": "markdown",
      "metadata": {
        "id": "3hKW8WLhNuJB"
      },
      "source": [
        "# Evaluate the model"
      ]
    },
    {
      "cell_type": "code",
      "execution_count": null,
      "metadata": {
        "colab": {
          "base_uri": "https://localhost:8080/"
        },
        "id": "1Fgnj-NzNxDs",
        "outputId": "e7eb82f5-fa3e-4dd6-85da-1d6a94654120"
      },
      "outputs": [],
      "source": [
        "model.to(\"cpu\")\n",
        "params = params.to(\"cpu\")\n",
        "vars = \"GCA-ROM\"\n",
        "results, latents_map, latents_gca = testing.evaluate(VAR_all, model, graph_loader, params, HyperParams, range(params.shape[0]))"
      ]
    },
    {
      "cell_type": "markdown",
      "metadata": {
        "id": "RSJLj7rMN3iE"
      },
      "source": [
        "# Plot the results"
      ]
    },
    {
      "cell_type": "code",
      "execution_count": null,
      "metadata": {
        "colab": {
          "base_uri": "https://localhost:8080/",
          "height": 1000
        },
        "id": "VwIkAWi4NzsF",
        "outputId": "cfa75a1c-0b8c-4328-c4d7-80fb36815ccb"
      },
      "outputs": [],
      "source": [
        "plotting.plot_loss(HyperParams)\n",
        "plotting.plot_latent(HyperParams, latents_map, latents_gca)\n",
        "plotting.plot_error(results, VAR_all, scaler_all, HyperParams, mu_space, params, train_trajectories, vars)\n",
        "plotting.plot_error_2d(results, VAR_all, scaler_all, HyperParams, mu_space, params, train_trajectories, vars)\n",
        "\n",
        "N = 5\n",
        "snapshots = np.arange(params.shape[0]).tolist()\n",
        "np.random.shuffle(snapshots)\n",
        "for SNAP in snapshots[0:N]:\n",
        "    plotting.plot_fields(SNAP, results, scaler_all, HyperParams, dataset, xyz, params)\n",
        "    plotting.plot_error_fields(SNAP, results, VAR_all, scaler_all, HyperParams, dataset, xyz, params)\n",
        "\n",
        "results_test, _, _ = testing.evaluate(VAR_test, model, val_loader, params, HyperParams, test_trajectories)"
      ]
    },
    {
      "cell_type": "markdown",
      "metadata": {
        "id": "uiaGsslJN8AH"
      },
      "source": [
        "# Print the errors on the testing set"
      ]
    },
    {
      "cell_type": "code",
      "execution_count": null,
      "metadata": {
        "colab": {
          "base_uri": "https://localhost:8080/"
        },
        "id": "R1BkkSEBN7K5",
        "outputId": "09821390-0960-4521-ef43-c56f22ce56cd"
      },
      "outputs": [],
      "source": [
        "error_abs, norm = error.compute_error(results_test, VAR_test, scaler_test, HyperParams)\n",
        "error.print_error(error_abs, norm, vars)\n",
        "error.save_error(error_abs, norm, HyperParams, vars)"
      ]
    }
  ],
  "metadata": {
    "accelerator": "GPU",
    "colab": {
      "authorship_tag": "ABX9TyOBRFEzYyQnPWHzx/GjZPAm",
      "gpuType": "T4",
      "include_colab_link": true,
      "provenance": []
    },
    "kernelspec": {
      "display_name": "Python 3",
      "name": "python3"
    },
    "language_info": {
      "name": "python"
    }
  },
  "nbformat": 4,
  "nbformat_minor": 0
}
